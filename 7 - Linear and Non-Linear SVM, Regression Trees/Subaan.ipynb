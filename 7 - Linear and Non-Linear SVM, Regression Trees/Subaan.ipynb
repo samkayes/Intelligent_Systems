{
 "cells": [
  {
   "cell_type": "code",
   "execution_count": null,
   "id": "fff298a4-90f5-4c11-b1d2-b4525140fd04",
   "metadata": {},
   "outputs": [],
   "source": [
    "# Fork this repository: https://github.com/marcvaleros/SVM-Regression-Trees\n",
    "# Experiment on various kernel functions and hyperparameters of the SVM classifier. (https://scikit-learn.org/stable/modules/svm.html#kernel-functions)  \n",
    "# Identify which SVM classifier performs better (Linear or Non-linear) with the given dataset.\n",
    "# Check the accuracy of your model."
   ]
  }
 ],
 "metadata": {
  "kernelspec": {
   "display_name": "Python 3 (ipykernel)",
   "language": "python",
   "name": "python3"
  },
  "language_info": {
   "codemirror_mode": {
    "name": "ipython",
    "version": 3
   },
   "file_extension": ".py",
   "mimetype": "text/x-python",
   "name": "python",
   "nbconvert_exporter": "python",
   "pygments_lexer": "ipython3",
   "version": "3.11.1"
  }
 },
 "nbformat": 4,
 "nbformat_minor": 5
}
